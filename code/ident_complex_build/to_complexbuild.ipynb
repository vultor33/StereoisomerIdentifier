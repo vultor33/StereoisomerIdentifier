{
 "cells": [
  {
   "cell_type": "code",
   "execution_count": 1,
   "metadata": {},
   "outputs": [
    {
     "name": "stdout",
     "output_type": "stream",
     "text": [
      "{'complexes': {0: {'FinalIsomer': \"{[Ma2(AB)2] OC-6 C2h a 2 B'' [1 2 5 4 6 3]}\", 'MetalSymbol': 'Mn1', 'xyz_pchealtes': [[-0.674201376603021, 0.34708644856395543, 0.6519075862496554], [0.38964740365817946, 0.9128627273804214, -0.12188741437087698], [-0.7873276215138169, 0.24398209362138387, -0.5662048696307037], [0.7873446248887505, -0.24397350060469553, 0.5661849279709622], [0.6742267091709689, -0.3470755801911312, -0.6518871729643677], [-0.38960958926923106, -0.9128785844921358, 0.12188953164687868], [-0.70248293783072, 0.3213103598283125, 0.3473794722795656], [-0.7590460602861179, 0.26975818235702675, -0.261676755660614], [0.7590651459593051, -0.26974902050130445, 0.2616669027371297], [0.7025061881004143, -0.3213000602945223, -0.3473691477305353]], 'LigandsCoords': [[-0.674201376603021, 0.34708644856395543, 0.6519075862496554], [0.38964740365817946, 0.9128627273804214, -0.12188741437087698], [-0.7873276215138169, 0.24398209362138387, -0.5662048696307037], [0.7873446248887505, -0.24397350060469553, 0.5661849279709622], [0.6742267091709689, -0.3470755801911312, -0.6518871729643677], [-0.38960958926923106, -0.9128785844921358, 0.12188953164687868]], 'LigandsOnMol2File': [32, 33, 2, 39, 53, 54], 'globalPriorities': [1, 3, 5, 5, 1, 3], 'composition': 'a2(AB)2', 'colors_pchelates': [1, 0, 2, 2, 1, 0, -1, -1, -1, -1], 'localPriorities': [1, 0, 2, 2, 1, 0], 'MetalPos': 1, 'shape': 'OC-6', 'shape_rmsd': 0.10219551823656603, 'chelates': [[0, 2], [3, 4]]}}}\n"
     ]
    }
   ],
   "source": [
    "from identifier.main import identify\n",
    "\n",
    "file_test = 'PIDYOR.search1.mol2'\n",
    "\n",
    "mol2Input = open(file_test,\"r\")\n",
    "fileStream = mol2Input.read().splitlines()\n",
    "mol2Input.close()\n",
    "\n",
    "response = identify(fileStream, False)\n",
    "print(response)"
   ]
  },
  {
   "cell_type": "code",
   "execution_count": null,
   "metadata": {},
   "outputs": [],
   "source": []
  },
  {
   "cell_type": "code",
   "execution_count": null,
   "metadata": {},
   "outputs": [],
   "source": []
  },
  {
   "cell_type": "code",
   "execution_count": null,
   "metadata": {},
   "outputs": [],
   "source": []
  },
  {
   "cell_type": "code",
   "execution_count": null,
   "metadata": {},
   "outputs": [],
   "source": []
  }
 ],
 "metadata": {
  "kernelspec": {
   "display_name": "Python 3",
   "language": "python",
   "name": "python3"
  },
  "language_info": {
   "codemirror_mode": {
    "name": "ipython",
    "version": 3
   },
   "file_extension": ".py",
   "mimetype": "text/x-python",
   "name": "python",
   "nbconvert_exporter": "python",
   "pygments_lexer": "ipython3",
   "version": "3.5.5"
  }
 },
 "nbformat": 4,
 "nbformat_minor": 4
}
