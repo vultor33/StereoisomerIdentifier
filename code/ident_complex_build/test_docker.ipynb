{
 "cells": [
  {
   "cell_type": "code",
   "execution_count": 21,
   "metadata": {},
   "outputs": [
    {
     "name": "stdout",
     "output_type": "stream",
     "text": [
      "{'complexes': {0: {'LigandsCoords': [[0.20115618588067316,\n",
      "                                      -0.9404647479414534,\n",
      "                                      -0.273974901699697],\n",
      "                                     [-0.17863866447641738,\n",
      "                                      -0.021680170418584242,\n",
      "                                      0.9836758601107903],\n",
      "                                     [-0.807077115006203,\n",
      "                                      0.3655272585488117,\n",
      "                                      -0.4636985590780437],\n",
      "                                     [0.7232713495670355,\n",
      "                                      0.6439280259026319,\n",
      "                                      -0.24946994278393236]],\n",
      "                   'LigandsOnMol2File': [50, 5, 6, 7],\n",
      "                   'MetalPos': 1,\n",
      "                   'MetalSymbol': 'Ru1',\n",
      "                   'chelates': [],\n",
      "                   'composition': 'a3b',\n",
      "                   'globalPriorities': [0, 3, 3, 3],\n",
      "                   'localPriorities': [1, 0, 0, 0],\n",
      "                   'xyz': '5\\n'\n",
      "                          '\\n'\n",
      "                          'Au  0.0  0.0  0.0\\n'\n",
      "                          'O  0.20115618588067316 '\n",
      "                          '-0.9404647479414534-0.273974901699697\\n'\n",
      "                          'C  -0.17863866447641738 '\n",
      "                          '-0.0216801704185842420.9836758601107903\\n'\n",
      "                          'C  -0.807077115006203 '\n",
      "                          '0.3655272585488117-0.4636985590780437\\n'\n",
      "                          'C  0.7232713495670355 '\n",
      "                          '0.6439280259026319-0.24946994278393236\\n'},\n",
      "               49: {'LigandsCoords': [[-0.20115618588067316,\n",
      "                                       0.9404647479414534,\n",
      "                                       0.273974901699697],\n",
      "                                      [0.17863866447641738,\n",
      "                                       0.021680170418584242,\n",
      "                                       -0.9836758601107903],\n",
      "                                      [0.807077115006203,\n",
      "                                       -0.3655272585488117,\n",
      "                                       0.4636985590780437],\n",
      "                                      [-0.7232713495670355,\n",
      "                                       -0.6439280259026319,\n",
      "                                       0.24946994278393236]],\n",
      "                    'LigandsOnMol2File': [1, 51, 52, 53],\n",
      "                    'MetalPos': 50,\n",
      "                    'MetalSymbol': 'Ru1A',\n",
      "                    'chelates': [],\n",
      "                    'composition': 'a3b',\n",
      "                    'globalPriorities': [0, 3, 3, 3],\n",
      "                    'localPriorities': [1, 0, 0, 0],\n",
      "                    'xyz': '5\\n'\n",
      "                           '\\n'\n",
      "                           'Au  0.0  0.0  0.0\\n'\n",
      "                           'O  -0.20115618588067316 '\n",
      "                           '0.94046474794145340.273974901699697\\n'\n",
      "                           'C  0.17863866447641738 '\n",
      "                           '0.021680170418584242-0.9836758601107903\\n'\n",
      "                           'C  0.807077115006203 '\n",
      "                           '-0.36552725854881170.4636985590780437\\n'\n",
      "                           'C  -0.7232713495670355 '\n",
      "                           '-0.64392802590263190.24946994278393236\\n'}}}\n"
     ]
    }
   ],
   "source": [
    "import pprint\n",
    "from polycip import Extraction\n",
    "\n",
    "file_erdkit = 'LILHIZ.search1.mol2'\n",
    "file_dimetal = 'FAHWAM.search1.mol2'\n",
    "file_ex = 'PIDYOR.search1.mol2'\n",
    "\n",
    "file_test = file_dimetal\n",
    "\n",
    "mol2Input = open(file_test,\"r\")\n",
    "fileStream = mol2Input.read().splitlines()\n",
    "mol2Input.close()\n",
    "\n",
    "response = Extraction.refine(file_test, fileStream)\n",
    "pprint.pprint(response)"
   ]
  },
  {
   "cell_type": "code",
   "execution_count": null,
   "metadata": {},
   "outputs": [],
   "source": []
  },
  {
   "cell_type": "code",
   "execution_count": null,
   "metadata": {},
   "outputs": [],
   "source": []
  },
  {
   "cell_type": "code",
   "execution_count": null,
   "metadata": {},
   "outputs": [],
   "source": [
    "isomerList = ReadStereoisomerList.defineIsomerList(csd_shape, csd_composition, 'cpp')"
   ]
  },
  {
   "cell_type": "code",
   "execution_count": null,
   "metadata": {},
   "outputs": [],
   "source": []
  },
  {
   "cell_type": "code",
   "execution_count": 23,
   "metadata": {},
   "outputs": [
    {
     "ename": "ImportError",
     "evalue": "No module named 'CompareStructures'",
     "output_type": "error",
     "traceback": [
      "\u001b[0;31m---------------------------------------------------------------------------\u001b[0m",
      "\u001b[0;31mImportError\u001b[0m                               Traceback (most recent call last)",
      "\u001b[0;32m<ipython-input-23-45c1c9316b7f>\u001b[0m in \u001b[0;36m<module>\u001b[0;34m()\u001b[0m\n\u001b[0;32m----> 1\u001b[0;31m \u001b[0;32mimport\u001b[0m \u001b[0mCompareStructures\u001b[0m\u001b[0;34m\u001b[0m\u001b[0m\n\u001b[0m",
      "\u001b[0;31mImportError\u001b[0m: No module named 'CompareStructures'"
     ]
    }
   ],
   "source": [
    "import CompareStructures"
   ]
  },
  {
   "cell_type": "code",
   "execution_count": 22,
   "metadata": {},
   "outputs": [
    {
     "data": {
      "text/plain": [
       "{'LigandsCoords': [[0.20115618588067316,\n",
       "   -0.9404647479414534,\n",
       "   -0.273974901699697],\n",
       "  [-0.17863866447641738, -0.021680170418584242, 0.9836758601107903],\n",
       "  [-0.807077115006203, 0.3655272585488117, -0.4636985590780437],\n",
       "  [0.7232713495670355, 0.6439280259026319, -0.24946994278393236]],\n",
       " 'LigandsOnMol2File': [50, 5, 6, 7],\n",
       " 'MetalPos': 1,\n",
       " 'MetalSymbol': 'Ru1',\n",
       " 'chelates': [],\n",
       " 'composition': 'a3b',\n",
       " 'globalPriorities': [0, 3, 3, 3],\n",
       " 'localPriorities': [1, 0, 0, 0],\n",
       " 'xyz': '5\\n\\nAu  0.0  0.0  0.0\\nO  0.20115618588067316 -0.9404647479414534-0.273974901699697\\nC  -0.17863866447641738 -0.0216801704185842420.9836758601107903\\nC  -0.807077115006203 0.3655272585488117-0.4636985590780437\\nC  0.7232713495670355 0.6439280259026319-0.24946994278393236\\n'}"
      ]
     },
     "execution_count": 22,
     "metadata": {},
     "output_type": "execute_result"
    }
   ],
   "source": [
    "response['complexes'][0]"
   ]
  },
  {
   "cell_type": "code",
   "execution_count": null,
   "metadata": {},
   "outputs": [],
   "source": [
    "CompareStructures.findShape(lcoords)"
   ]
  },
  {
   "cell_type": "code",
   "execution_count": null,
   "metadata": {},
   "outputs": [],
   "source": []
  },
  {
   "cell_type": "code",
   "execution_count": null,
   "metadata": {},
   "outputs": [],
   "source": []
  },
  {
   "cell_type": "code",
   "execution_count": null,
   "metadata": {},
   "outputs": [],
   "source": []
  },
  {
   "cell_type": "code",
   "execution_count": null,
   "metadata": {},
   "outputs": [],
   "source": []
  },
  {
   "cell_type": "code",
   "execution_count": null,
   "metadata": {},
   "outputs": [],
   "source": []
  },
  {
   "cell_type": "code",
   "execution_count": null,
   "metadata": {},
   "outputs": [],
   "source": []
  }
 ],
 "metadata": {
  "kernelspec": {
   "display_name": "Python 3",
   "language": "python",
   "name": "python3"
  },
  "language_info": {
   "codemirror_mode": {
    "name": "ipython",
    "version": 3
   },
   "file_extension": ".py",
   "mimetype": "text/x-python",
   "name": "python",
   "nbconvert_exporter": "python",
   "pygments_lexer": "ipython3",
   "version": "3.5.5"
  }
 },
 "nbformat": 4,
 "nbformat_minor": 4
}
