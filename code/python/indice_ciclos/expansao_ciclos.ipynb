{
 "cells": [
  {
   "cell_type": "code",
   "execution_count": 1,
   "metadata": {},
   "outputs": [],
   "source": [
    "from expansao_ciclos import *\n",
    "import sympy\n",
    "import pandas as pd"
   ]
  },
  {
   "cell_type": "code",
   "execution_count": 2,
   "metadata": {},
   "outputs": [],
   "source": [
    "# PPY-6\n",
    "indice_ciclos_rot = (x1**6 + x1*x5 + x1*x5 + x1*x5 + x1*x5)\n",
    "\n",
    "indice_ciclos_completo = (indice_ciclos_rot + x1*x1*x2*x2 \n",
    "                          + x1*x2*x1*x2 + x1*x2*x2*x1 + x1*x2*x2*x1 \n",
    "                          + x1*x2*x2*x1)\n",
    "coeficientes = coeficientes_6\n",
    "termo_rot = 1/5\n",
    "termo_comp = 1/10\n",
    "\n"
   ]
  },
  {
   "cell_type": "code",
   "execution_count": 2,
   "metadata": {},
   "outputs": [],
   "source": [
    "# JBCSAPR-10\n",
    "indice_ciclos_rot = (x1**10 + x4*x4*x1*x1 + x2*x2*x2*x2*x1*x1\n",
    "                    + x4*x4*x1*x1 + x2*x2*x2*x2*x2 + x2*x2*x2*x2*x2\n",
    "                    + x2*x2*x2*x2*x2 + x2*x2*x2*x2*x2)\n",
    "\n",
    "indice_ciclos_completo = (indice_ciclos_rot + x2*x2*x2*x1*x1*x1*x1\n",
    "                         + x2*x2*x1*x2*x1*x1*x1 + x2*x1*x2*x2*x1*x1*x1\n",
    "                         + x1*x2*x2*x2*x1*x1*x1 + x8*x2 + x8*x2 + x8*x2\n",
    "                         + x8*x2)\n",
    "coeficientes = coeficientes_10\n",
    "termo_rot = 1/8\n",
    "termo_comp = 1/16\n"
   ]
  },
  {
   "cell_type": "code",
   "execution_count": 2,
   "metadata": {},
   "outputs": [],
   "source": [
    "# JSPC-10\n",
    "indice_ciclos_rot = (x1**10 + x2*x2*x2*x2*x2)\n",
    "\n",
    "indice_ciclos_completo = (indice_ciclos_rot + x2*x1*x2*x2*x1*x2\n",
    "                         + x2*x2*x2*x1*x1*x1*x1)\n",
    "coeficientes = coeficientes_10\n",
    "termo_rot = 1/2\n",
    "termo_comp = 1/4\n"
   ]
  },
  {
   "cell_type": "code",
   "execution_count": 2,
   "metadata": {},
   "outputs": [],
   "source": [
    "# TD-10\n",
    "indice_ciclos_rot = (x1**10 + x2*x2*x2*x2*x2)\n",
    "\n",
    "indice_ciclos_completo = (indice_ciclos_rot + x2*x2*x2*x2*x1*x1\n",
    "                         + x2*x2*x1*x1*x1*x1*x2)\n",
    "coeficientes = coeficientes_10\n",
    "termo_rot = 1/2\n",
    "termo_comp = 1/4\n"
   ]
  },
  {
   "cell_type": "markdown",
   "metadata": {},
   "source": [
    "# Calcular os coeficientes"
   ]
  },
  {
   "cell_type": "code",
   "execution_count": 3,
   "metadata": {},
   "outputs": [],
   "source": [
    "tabela = {}\n",
    "tabela['0formula'] = []\n",
    "tabela['1total'] = []\n",
    "tabela['2chiral'] = []\n",
    "tabela['3achiral'] = []\n",
    "expansao_rot = expansao_polinomios(indice_ciclos_rot)\n",
    "expansao_completo = expansao_polinomios(indice_ciclos_completo)\n",
    "\n",
    "for coef in coeficientes:\n",
    "    total = int(termo_rot * expansao_rot.coeff(coef,1))\n",
    "    comp = int(termo_comp * expansao_completo.coeff(coef,1))\n",
    "    chiral = 2 * (total - comp)\n",
    "    achiral = total - chiral\n",
    "    tabela['0formula'].append(str(coef))\n",
    "    tabela['1total'].append(total)\n",
    "    tabela['2chiral'].append(chiral)\n",
    "    tabela['3achiral'].append(achiral)\n",
    "    "
   ]
  },
  {
   "cell_type": "code",
   "execution_count": 4,
   "metadata": {},
   "outputs": [],
   "source": [
    "pd.DataFrame(tabela).to_csv('resultado.csv',sep=';',index=False)"
   ]
  },
  {
   "cell_type": "code",
   "execution_count": null,
   "metadata": {},
   "outputs": [],
   "source": []
  },
  {
   "cell_type": "code",
   "execution_count": null,
   "metadata": {},
   "outputs": [],
   "source": []
  },
  {
   "cell_type": "markdown",
   "metadata": {},
   "source": [
    "# Mostar os indices de ciclos"
   ]
  },
  {
   "cell_type": "code",
   "execution_count": 4,
   "metadata": {},
   "outputs": [],
   "source": [
    "x1, x2, x3, x4, x5, x6, x7, x8, x9, x10 = sympy.symbols('x1 x2 x3 x4 x5 x6 x7 x8 x9 x10')"
   ]
  },
  {
   "cell_type": "code",
   "execution_count": 5,
   "metadata": {},
   "outputs": [],
   "source": [
    "# JBCSAPR-10\n",
    "indice_ciclos_rot = (x1**10 + x4*x4*x1*x1 + x2*x2*x2*x2*x1*x1\n",
    "                    + x4*x4*x1*x1 + x2*x2*x2*x2*x2 + x2*x2*x2*x2*x2\n",
    "                    + x2*x2*x2*x2*x2 + x2*x2*x2*x2*x2)\n",
    "\n",
    "indice_ciclos_completo = (indice_ciclos_rot + x2*x2*x2*x1*x1*x1*x1\n",
    "                         + x2*x2*x1*x2*x1*x1*x1 + x2*x1*x2*x2*x1*x1*x1\n",
    "                         + x1*x2*x2*x2*x1*x1*x1 + x8*x2 + x8*x2 + x8*x2\n",
    "                         + x8*x2)\n",
    "coeficientes = coeficientes_10\n",
    "termo_rot = 1/8\n",
    "termo_comp = 1/16\n"
   ]
  },
  {
   "cell_type": "code",
   "execution_count": 12,
   "metadata": {},
   "outputs": [],
   "source": [
    "# JSPC-10\n",
    "indice_ciclos_rot = (x1**10 + x2*x2*x2*x2*x2)\n",
    "\n",
    "indice_ciclos_completo = (indice_ciclos_rot + x2*x1*x2*x2*x1*x2\n",
    "                         + x2*x2*x2*x1*x1*x1*x1)\n",
    "coeficientes = coeficientes_10\n",
    "termo_rot = 1/2\n",
    "termo_comp = 1/4\n"
   ]
  },
  {
   "cell_type": "code",
   "execution_count": 13,
   "metadata": {},
   "outputs": [
    {
     "data": {
      "text/latex": [
       "$$x_{1}^{10} + x_{2}^{5}$$"
      ],
      "text/plain": [
       "  10     5\n",
       "x₁   + x₂ "
      ]
     },
     "execution_count": 13,
     "metadata": {},
     "output_type": "execute_result"
    }
   ],
   "source": [
    "indice_ciclos_rot"
   ]
  },
  {
   "cell_type": "code",
   "execution_count": 14,
   "metadata": {},
   "outputs": [
    {
     "data": {
      "text/latex": [
       "$$x_{1}^{10} + x_{1}^{4} x_{2}^{3} + x_{1}^{2} x_{2}^{4} + x_{2}^{5}$$"
      ],
      "text/plain": [
       "  10     4   3     2   4     5\n",
       "x₁   + x₁ ⋅x₂  + x₁ ⋅x₂  + x₂ "
      ]
     },
     "execution_count": 14,
     "metadata": {},
     "output_type": "execute_result"
    }
   ],
   "source": [
    "indice_ciclos_completo"
   ]
  },
  {
   "cell_type": "code",
   "execution_count": null,
   "metadata": {},
   "outputs": [],
   "source": []
  },
  {
   "cell_type": "code",
   "execution_count": null,
   "metadata": {},
   "outputs": [],
   "source": []
  },
  {
   "cell_type": "code",
   "execution_count": null,
   "metadata": {},
   "outputs": [],
   "source": []
  },
  {
   "cell_type": "code",
   "execution_count": null,
   "metadata": {},
   "outputs": [],
   "source": []
  },
  {
   "cell_type": "code",
   "execution_count": null,
   "metadata": {},
   "outputs": [],
   "source": []
  },
  {
   "cell_type": "code",
   "execution_count": null,
   "metadata": {},
   "outputs": [],
   "source": []
  }
 ],
 "metadata": {
  "kernelspec": {
   "display_name": "Python 3",
   "language": "python",
   "name": "python3"
  },
  "language_info": {
   "codemirror_mode": {
    "name": "ipython",
    "version": 3
   },
   "file_extension": ".py",
   "mimetype": "text/x-python",
   "name": "python",
   "nbconvert_exporter": "python",
   "pygments_lexer": "ipython3",
   "version": "3.5.6"
  }
 },
 "nbformat": 4,
 "nbformat_minor": 4
}
