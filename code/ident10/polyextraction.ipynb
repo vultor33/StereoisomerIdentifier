{
 "cells": [
  {
   "cell_type": "code",
   "execution_count": 2,
   "metadata": {},
   "outputs": [],
   "source": [
    "import io"
   ]
  },
  {
   "cell_type": "code",
   "execution_count": 3,
   "metadata": {},
   "outputs": [],
   "source": [
    "output = io.StringIO()"
   ]
  },
  {
   "cell_type": "code",
   "execution_count": 4,
   "metadata": {},
   "outputs": [
    {
     "data": {
      "text/plain": [
       "10"
      ]
     },
     "execution_count": 4,
     "metadata": {},
     "output_type": "execute_result"
    }
   ],
   "source": [
    "output.write('ola mundo\\n')"
   ]
  },
  {
   "cell_type": "code",
   "execution_count": 5,
   "metadata": {},
   "outputs": [
    {
     "data": {
      "text/plain": [
       "6"
      ]
     },
     "execution_count": 5,
     "metadata": {},
     "output_type": "execute_result"
    }
   ],
   "source": [
    "output.write('ola 2\\n')"
   ]
  },
  {
   "cell_type": "code",
   "execution_count": 7,
   "metadata": {},
   "outputs": [
    {
     "name": "stdout",
     "output_type": "stream",
     "text": [
      "ola mundo\n",
      "ola 2\n",
      "\n"
     ]
    }
   ],
   "source": [
    "print(output.getvalue())"
   ]
  },
  {
   "cell_type": "code",
   "execution_count": null,
   "metadata": {},
   "outputs": [],
   "source": []
  },
  {
   "cell_type": "code",
   "execution_count": 1,
   "metadata": {},
   "outputs": [],
   "source": [
    "import CsdExtraction"
   ]
  },
  {
   "cell_type": "code",
   "execution_count": null,
   "metadata": {},
   "outputs": [],
   "source": []
  },
  {
   "cell_type": "code",
   "execution_count": 1,
   "metadata": {},
   "outputs": [],
   "source": [
    "from polyextraction import CsdExtraction as csd2\n",
    "import numpy as np"
   ]
  },
  {
   "cell_type": "code",
   "execution_count": 3,
   "metadata": {},
   "outputs": [],
   "source": [
    "lcoords0 = np.array([[ 0.27992448,  0.81933674, -0.50032949],\n",
    "       [-0.06572723,  0.97144996,  0.22795812],\n",
    "       [-0.90134182, -0.42486156,  0.0841165 ],\n",
    "       [-0.91721247,  0.39418644, -0.05777838],\n",
    "       [-0.03932417, -0.96992257, -0.24021619],\n",
    "       [ 0.31220859, -0.82222993,  0.47588206],\n",
    "       [ 0.81926145,  0.29021102,  0.49455863],\n",
    "       [-0.28157493,  0.09977484,  0.95433775],\n",
    "       [ 0.78809078, -0.28453478, -0.5458506 ],\n",
    "       [-0.33442012, -0.10152258, -0.93693989]])"
   ]
  },
  {
   "cell_type": "code",
   "execution_count": 3,
   "metadata": {},
   "outputs": [],
   "source": [
    "example = 'FAMKOV.search1.mol2'"
   ]
  },
  {
   "cell_type": "code",
   "execution_count": 1,
   "metadata": {},
   "outputs": [],
   "source": [
    "from polyextraction import CsdExtraction as csd2\n",
    "import numpy as np\n",
    "example = 'FAMKOV.search1.mol2'\n",
    "name, lcoords, colors, composition, chelates = csd2.refineCoordinationPolyhedron(example)"
   ]
  },
  {
   "cell_type": "code",
   "execution_count": 2,
   "metadata": {},
   "outputs": [
    {
     "ename": "NameError",
     "evalue": "name 'lcoords0' is not defined",
     "output_type": "error",
     "traceback": [
      "\u001b[0;31m---------------------------------------------------------------------------\u001b[0m",
      "\u001b[0;31mNameError\u001b[0m                                 Traceback (most recent call last)",
      "\u001b[0;32m<ipython-input-2-f0e6f74163f7>\u001b[0m in \u001b[0;36m<module>\u001b[0;34m()\u001b[0m\n\u001b[0;32m----> 1\u001b[0;31m \u001b[0mnp\u001b[0m\u001b[0;34m.\u001b[0m\u001b[0mallclose\u001b[0m\u001b[0;34m(\u001b[0m\u001b[0mlcoords\u001b[0m\u001b[0;34m,\u001b[0m \u001b[0mlcoords0\u001b[0m\u001b[0;34m)\u001b[0m\u001b[0;34m\u001b[0m\u001b[0m\n\u001b[0m",
      "\u001b[0;31mNameError\u001b[0m: name 'lcoords0' is not defined"
     ]
    }
   ],
   "source": [
    "np.allclose(lcoords, lcoords0)"
   ]
  },
  {
   "cell_type": "code",
   "execution_count": 3,
   "metadata": {},
   "outputs": [
    {
     "data": {
      "text/plain": [
       "array([[ 0.27992448,  0.81933674, -0.50032949],\n",
       "       [-0.06572723,  0.97144996,  0.22795812],\n",
       "       [-0.90134182, -0.42486156,  0.0841165 ],\n",
       "       [-0.91721247,  0.39418644, -0.05777838],\n",
       "       [-0.03932417, -0.96992257, -0.24021619],\n",
       "       [ 0.31220859, -0.82222993,  0.47588206],\n",
       "       [ 0.81926145,  0.29021102,  0.49455863],\n",
       "       [-0.28157493,  0.09977484,  0.95433775],\n",
       "       [ 0.78809078, -0.28453478, -0.5458506 ],\n",
       "       [-0.33442012, -0.10152258, -0.93693989]])"
      ]
     },
     "execution_count": 3,
     "metadata": {},
     "output_type": "execute_result"
    }
   ],
   "source": [
    "lcoords"
   ]
  },
  {
   "cell_type": "code",
   "execution_count": null,
   "metadata": {},
   "outputs": [],
   "source": []
  },
  {
   "cell_type": "code",
   "execution_count": null,
   "metadata": {},
   "outputs": [],
   "source": []
  },
  {
   "cell_type": "code",
   "execution_count": 2,
   "metadata": {},
   "outputs": [
    {
     "data": {
      "text/plain": [
       "True"
      ]
     },
     "execution_count": 2,
     "metadata": {},
     "output_type": "execute_result"
    }
   ],
   "source": [
    "import numpy as np\n",
    "\n",
    "lcoords0 = np.array([[ 0.27992448,  0.81933674, -0.50032949],\n",
    "       [-0.06572723,  0.97144996,  0.22795812],\n",
    "       [-0.90134182, -0.42486156,  0.0841165 ],\n",
    "       [-0.91721247,  0.39418644, -0.05777838],\n",
    "       [-0.03932417, -0.96992257, -0.24021619],\n",
    "       [ 0.31220859, -0.82222993,  0.47588206],\n",
    "       [ 0.81926145,  0.29021102,  0.49455863],\n",
    "       [-0.28157493,  0.09977484,  0.95433775],\n",
    "       [ 0.78809078, -0.28453478, -0.5458506 ],\n",
    "       [-0.33442012, -0.10152258, -0.93693989]])\n",
    "\n",
    "from polycip import Extraction as csd\n",
    "example = 'FAMKOV.search1.mol2'\n",
    "name, lcoords, colors, composition, chelates = csd.refineCoordinationPolyhedron(example)\n",
    "np.allclose(lcoords, lcoords0)"
   ]
  },
  {
   "cell_type": "code",
   "execution_count": null,
   "metadata": {},
   "outputs": [],
   "source": []
  },
  {
   "cell_type": "code",
   "execution_count": null,
   "metadata": {},
   "outputs": [],
   "source": []
  },
  {
   "cell_type": "code",
   "execution_count": 1,
   "metadata": {
    "scrolled": true
   },
   "outputs": [
    {
     "data": {
      "text/plain": [
       "{'complexes': {0: {'LigandsCoords': [[0.27992448083999916,\n",
       "     0.8193367365763178,\n",
       "     -0.5003294885602153],\n",
       "    [-0.06572722889865575, 0.9714499610719908, 0.22795812008904454],\n",
       "    [-0.9013418158151061, -0.4248615607586624, 0.08411649810138835],\n",
       "    [-0.9172124686883184, 0.394186435245024, -0.05777838308140051],\n",
       "    [-0.0393241707150612, -0.9699225702023823, -0.24021618889986876],\n",
       "    [0.3122085942634846, -0.8222299319555952, 0.4758820575145864],\n",
       "    [0.8192614489190636, 0.290211023634074, 0.49455863158608354],\n",
       "    [-0.28157493217206886, 0.09977484130249188, 0.9543377487113026],\n",
       "    [0.7880907807051425, -0.284534779812132, -0.5458506026788104],\n",
       "    [-0.33442011648950726, -0.10152258024092267, -0.9369398867528107]],\n",
       "   'LigandsOnMol2File': [7, 8, 11, 12, 15, 16, 18, 19, 24, 25],\n",
       "   'MetalPos': 1,\n",
       "   'MetalSymbol': 'Pr1',\n",
       "   'chelates': [[0, 1], [2, 3], [4, 5], [6, 7], [8, 9]],\n",
       "   'composition': '(A2)3(AB)2',\n",
       "   'globalPriorities': [7, 7, 7, 7, 7, 7, 5, 6, 5, 6],\n",
       "   'localPriorities': [0, 0, 0, 0, 0, 0, 1, 2, 1, 2],\n",
       "   'xyz': '21\\n\\nAu  0.0  0.0  0.0\\nC  0.27992448083999916 0.8193367365763178-0.5003294885602153\\nC  -0.06572722889865575 0.97144996107199080.22795812008904454\\nC  -0.9013418158151061 -0.42486156075866240.08411649810138835\\nC  -0.9172124686883184 0.394186435245024-0.05777838308140051\\nC  -0.0393241707150612 -0.9699225702023823-0.24021618889986876\\nC  0.3122085942634846 -0.82222993195559520.4758820575145864\\nO  0.8192614489190636 0.2902110236340740.49455863158608354\\nN  -0.28157493217206886 0.099774841302491880.9543377487113026\\nO  0.7880907807051425 -0.284534779812132-0.5458506026788104\\nN  -0.33442011648950726 -0.10152258024092267-0.9369398867528107\\nH  0.19351155340533543 0.8573650427002361-0.31825758639790036\\nH  0.02068569853600799 0.93342165494807250.04588621792672953\\nH  -0.9053094790334092 -0.220099561757740790.04864277780569114\\nH  -0.9132448054700153 0.18942443624410238-0.022304662785703297\\nH  0.048559020529575246 -0.9329994106406855-0.06119162729625496\\nH  0.22432540301884815 -0.8591530915172920.29685749591097266\\nH  0.5440523536462805 0.242601978051178450.6095034108673884\\nH  -0.006365836899285826 0.14738388688538740.8393929694299979\\nH  0.50746305640648 -0.23878172991932967-0.6436229236973104\\nH  -0.05379239219084486 -0.147275630133725-0.8391675657343106\\n'}}}"
      ]
     },
     "execution_count": 1,
     "metadata": {},
     "output_type": "execute_result"
    }
   ],
   "source": [
    "import numpy as np\n",
    "\n",
    "lcoords0 = np.array([[ 0.27992448,  0.81933674, -0.50032949],\n",
    "       [-0.06572723,  0.97144996,  0.22795812],\n",
    "       [-0.90134182, -0.42486156,  0.0841165 ],\n",
    "       [-0.91721247,  0.39418644, -0.05777838],\n",
    "       [-0.03932417, -0.96992257, -0.24021619],\n",
    "       [ 0.31220859, -0.82222993,  0.47588206],\n",
    "       [ 0.81926145,  0.29021102,  0.49455863],\n",
    "       [-0.28157493,  0.09977484,  0.95433775],\n",
    "       [ 0.78809078, -0.28453478, -0.5458506 ],\n",
    "       [-0.33442012, -0.10152258, -0.93693989]])\n",
    "\n",
    "#from polycip import Extraction as csd\n",
    "from polycip import Extraction\n",
    "from polycip import BuildTargetComplex\n",
    "\n",
    "example = 'FAMKOV.search1.mol2'\n",
    "response = Extraction.refine(example)\n",
    "response"
   ]
  },
  {
   "cell_type": "code",
   "execution_count": 5,
   "metadata": {},
   "outputs": [],
   "source": [
    "for imetal in response['complexes']:\n",
    "    isoCoords, isoColorsDent = BuildTargetComplex.addChelation(\n",
    "        response['complexes'][\n",
    "            imetal]['LigandsCoords'], \n",
    "        response['complexes'][imetal]['localPriorities'],\n",
    "        response['complexes'][imetal]['chelates'])\n",
    "    xyzCoords = BuildTargetComplex.polyToXyz(isoCoords, isoColorsDent)\n",
    "    response['complexes'][imetal]['xyz'] = xyzCoords\n",
    "#np.allclose(lcoords, lcoords0)"
   ]
  },
  {
   "cell_type": "code",
   "execution_count": 6,
   "metadata": {},
   "outputs": [
    {
     "data": {
      "text/plain": [
       "{'complexes': {0: {'LigandsCoords': [[0.27992448083999916,\n",
       "     0.8193367365763178,\n",
       "     -0.5003294885602153],\n",
       "    [-0.06572722889865575, 0.9714499610719908, 0.22795812008904454],\n",
       "    [-0.9013418158151061, -0.4248615607586624, 0.08411649810138835],\n",
       "    [-0.9172124686883184, 0.394186435245024, -0.05777838308140051],\n",
       "    [-0.0393241707150612, -0.9699225702023823, -0.24021618889986876],\n",
       "    [0.3122085942634846, -0.8222299319555952, 0.4758820575145864],\n",
       "    [0.8192614489190636, 0.290211023634074, 0.49455863158608354],\n",
       "    [-0.28157493217206886, 0.09977484130249188, 0.9543377487113026],\n",
       "    [0.7880907807051425, -0.284534779812132, -0.5458506026788104],\n",
       "    [-0.33442011648950726, -0.10152258024092267, -0.9369398867528107]],\n",
       "   'LigandsOnMol2File': [7, 8, 11, 12, 15, 16, 18, 19, 24, 25],\n",
       "   'MetalPos': 1,\n",
       "   'MetalSymbol': 'Pr1',\n",
       "   'chelates': [[0, 1], [2, 3], [4, 5], [6, 7], [8, 9]],\n",
       "   'composition': '(A2)3(AB)2',\n",
       "   'globalPriorities': [7, 7, 7, 7, 7, 7, 5, 6, 5, 6],\n",
       "   'localPriorities': [0, 0, 0, 0, 0, 0, 1, 2, 1, 2],\n",
       "   'xyz': '21\\n\\nAu  0.0  0.0  0.0\\nC  0.27992448083999916 0.8193367365763178-0.5003294885602153\\nC  -0.06572722889865575 0.97144996107199080.22795812008904454\\nC  -0.9013418158151061 -0.42486156075866240.08411649810138835\\nC  -0.9172124686883184 0.394186435245024-0.05777838308140051\\nC  -0.0393241707150612 -0.9699225702023823-0.24021618889986876\\nC  0.3122085942634846 -0.82222993195559520.4758820575145864\\nO  0.8192614489190636 0.2902110236340740.49455863158608354\\nN  -0.28157493217206886 0.099774841302491880.9543377487113026\\nO  0.7880907807051425 -0.284534779812132-0.5458506026788104\\nN  -0.33442011648950726 -0.10152258024092267-0.9369398867528107\\nH  0.19351155340533543 0.8573650427002361-0.31825758639790036\\nH  0.02068569853600799 0.93342165494807250.04588621792672953\\nH  -0.9053094790334092 -0.220099561757740790.04864277780569114\\nH  -0.9132448054700153 0.18942443624410238-0.022304662785703297\\nH  0.048559020529575246 -0.9329994106406855-0.06119162729625496\\nH  0.22432540301884815 -0.8591530915172920.29685749591097266\\nH  0.5440523536462805 0.242601978051178450.6095034108673884\\nH  -0.006365836899285826 0.14738388688538740.8393929694299979\\nH  0.50746305640648 -0.23878172991932967-0.6436229236973104\\nH  -0.05379239219084486 -0.147275630133725-0.8391675657343106\\n'}}}"
      ]
     },
     "execution_count": 6,
     "metadata": {},
     "output_type": "execute_result"
    }
   ],
   "source": [
    "response"
   ]
  },
  {
   "cell_type": "code",
   "execution_count": null,
   "metadata": {},
   "outputs": [],
   "source": []
  },
  {
   "cell_type": "code",
   "execution_count": null,
   "metadata": {},
   "outputs": [],
   "source": []
  },
  {
   "cell_type": "code",
   "execution_count": null,
   "metadata": {},
   "outputs": [],
   "source": []
  },
  {
   "cell_type": "code",
   "execution_count": null,
   "metadata": {},
   "outputs": [],
   "source": []
  },
  {
   "cell_type": "code",
   "execution_count": null,
   "metadata": {},
   "outputs": [],
   "source": []
  }
 ],
 "metadata": {
  "kernelspec": {
   "display_name": "Python 3",
   "language": "python",
   "name": "python3"
  },
  "language_info": {
   "codemirror_mode": {
    "name": "ipython",
    "version": 3
   },
   "file_extension": ".py",
   "mimetype": "text/x-python",
   "name": "python",
   "nbconvert_exporter": "python",
   "pygments_lexer": "ipython3",
   "version": "3.5.5"
  }
 },
 "nbformat": 4,
 "nbformat_minor": 4
}
